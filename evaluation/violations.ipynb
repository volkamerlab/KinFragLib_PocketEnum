{
 "cells": [
  {
   "cell_type": "code",
   "execution_count": 2,
   "metadata": {},
   "outputs": [],
   "source": [
    "import json\n",
    "from rdkit import Chem\n",
    "from rdkit.Chem import rdMolAlign\n",
    "import pandas as pd\n",
    "\n",
    "with open('../final_results/3amb/output.json', 'rt') as json_file:\n",
    "    output = json.load(json_file)"
   ]
  },
  {
   "cell_type": "markdown",
   "metadata": {},
   "source": [
    "# Violations"
   ]
  },
  {
   "cell_type": "code",
   "execution_count": 3,
   "metadata": {},
   "outputs": [
    {
     "name": "stdout",
     "output_type": "stream",
     "text": [
      "16.722722858518363% of optimized poses were dropped\n",
      "Total number: 101081\n",
      "Total number: 604453\n"
     ]
    }
   ],
   "source": [
    "sum_violations = sum(output['NumDisplacementViolations'].values())\n",
    "sum_generated_docking_poses = sum(output['GeneratedPoses'].values())\n",
    "print(f'{sum_violations/sum_generated_docking_poses * 100}% of optimized poses were dropped')\n",
    "print(f\"Total number: {sum_violations}\")\n",
    "print(f\"Total number: {sum_generated_docking_poses}\")"
   ]
  },
  {
   "cell_type": "code",
   "execution_count": 5,
   "metadata": {},
   "outputs": [
    {
     "name": "stdout",
     "output_type": "stream",
     "text": [
      "Mean displacement: 1.3780824898020558\n"
     ]
    }
   ],
   "source": [
    "# average displacement\n",
    "print(f\"Mean displacement: {sum(output['MeanHydeDisplacementIncludingViolations'].values())/len(output['MeanHydeDisplacementIncludingViolations'])}\")\n"
   ]
  },
  {
   "cell_type": "code",
   "execution_count": 6,
   "metadata": {},
   "outputs": [],
   "source": [
    "# parse violations\n",
    "violations = [mol  for i in range(4) for mol in Chem.SDMolSupplier(f\"../final_results/3amb/violations_SP{i}.sdf\", removeHs=False)]"
   ]
  },
  {
   "cell_type": "code",
   "execution_count": 7,
   "metadata": {},
   "outputs": [],
   "source": [
    "# pair violations\n",
    "pairs = [[violations[i], violations[i+1]] for i in range(0, len(violations), 2)]\n",
    "violations_df = pd.DataFrame(pairs, columns=['before', 'after'])"
   ]
  },
  {
   "cell_type": "code",
   "execution_count": 8,
   "metadata": {},
   "outputs": [
    {
     "data": {
      "text/html": [
       "<div>\n",
       "<style scoped>\n",
       "    .dataframe tbody tr th:only-of-type {\n",
       "        vertical-align: middle;\n",
       "    }\n",
       "\n",
       "    .dataframe tbody tr th {\n",
       "        vertical-align: top;\n",
       "    }\n",
       "\n",
       "    .dataframe thead th {\n",
       "        text-align: right;\n",
       "    }\n",
       "</style>\n",
       "<table border=\"1\" class=\"dataframe\">\n",
       "  <thead>\n",
       "    <tr style=\"text-align: right;\">\n",
       "      <th></th>\n",
       "      <th>before</th>\n",
       "      <th>after</th>\n",
       "    </tr>\n",
       "  </thead>\n",
       "  <tbody>\n",
       "    <tr>\n",
       "      <th>0</th>\n",
       "      <td>&lt;rdkit.Chem.rdchem.Mol object at 0x7fe0f1ed3040&gt;</td>\n",
       "      <td>&lt;rdkit.Chem.rdchem.Mol object at 0x7fe0f1ed3220&gt;</td>\n",
       "    </tr>\n",
       "    <tr>\n",
       "      <th>1</th>\n",
       "      <td>&lt;rdkit.Chem.rdchem.Mol object at 0x7fe0f1ed3580&gt;</td>\n",
       "      <td>&lt;rdkit.Chem.rdchem.Mol object at 0x7fe0f1ed33a0&gt;</td>\n",
       "    </tr>\n",
       "    <tr>\n",
       "      <th>2</th>\n",
       "      <td>&lt;rdkit.Chem.rdchem.Mol object at 0x7fe0f1ed3400&gt;</td>\n",
       "      <td>&lt;rdkit.Chem.rdchem.Mol object at 0x7fe0f1ed3700&gt;</td>\n",
       "    </tr>\n",
       "    <tr>\n",
       "      <th>3</th>\n",
       "      <td>&lt;rdkit.Chem.rdchem.Mol object at 0x7fe0f1ed3820&gt;</td>\n",
       "      <td>&lt;rdkit.Chem.rdchem.Mol object at 0x7fe0f1ed3940&gt;</td>\n",
       "    </tr>\n",
       "    <tr>\n",
       "      <th>4</th>\n",
       "      <td>&lt;rdkit.Chem.rdchem.Mol object at 0x7fe0f1ed3880&gt;</td>\n",
       "      <td>&lt;rdkit.Chem.rdchem.Mol object at 0x7fe0f1ed38e0&gt;</td>\n",
       "    </tr>\n",
       "  </tbody>\n",
       "</table>\n",
       "</div>"
      ],
      "text/plain": [
       "                                             before  \\\n",
       "0  <rdkit.Chem.rdchem.Mol object at 0x7fe0f1ed3040>   \n",
       "1  <rdkit.Chem.rdchem.Mol object at 0x7fe0f1ed3580>   \n",
       "2  <rdkit.Chem.rdchem.Mol object at 0x7fe0f1ed3400>   \n",
       "3  <rdkit.Chem.rdchem.Mol object at 0x7fe0f1ed3820>   \n",
       "4  <rdkit.Chem.rdchem.Mol object at 0x7fe0f1ed3880>   \n",
       "\n",
       "                                              after  \n",
       "0  <rdkit.Chem.rdchem.Mol object at 0x7fe0f1ed3220>  \n",
       "1  <rdkit.Chem.rdchem.Mol object at 0x7fe0f1ed33a0>  \n",
       "2  <rdkit.Chem.rdchem.Mol object at 0x7fe0f1ed3700>  \n",
       "3  <rdkit.Chem.rdchem.Mol object at 0x7fe0f1ed3940>  \n",
       "4  <rdkit.Chem.rdchem.Mol object at 0x7fe0f1ed38e0>  "
      ]
     },
     "execution_count": 8,
     "metadata": {},
     "output_type": "execute_result"
    }
   ],
   "source": [
    "violations_df.head()"
   ]
  },
  {
   "cell_type": "code",
   "execution_count": 9,
   "metadata": {},
   "outputs": [],
   "source": [
    "violations_df['rmsd'] = violations_df.apply(lambda x: rdMolAlign.CalcRMS(x.before, x.after, map = [[[j, j] for j in range(x.before.GetNumAtoms())]]), axis=1)"
   ]
  },
  {
   "cell_type": "code",
   "execution_count": 10,
   "metadata": {},
   "outputs": [],
   "source": [
    "violations_df =violations_df.sort_values(['rmsd']).reset_index(drop=True)"
   ]
  },
  {
   "cell_type": "code",
   "execution_count": 11,
   "metadata": {},
   "outputs": [
    {
     "name": "stdout",
     "output_type": "stream",
     "text": [
      "Minimum rmsd: 2.000005361055315\n"
     ]
    }
   ],
   "source": [
    "print(f'Minimum rmsd: {violations_df.rmsd[0]}')"
   ]
  },
  {
   "cell_type": "code",
   "execution_count": 12,
   "metadata": {},
   "outputs": [
    {
     "name": "stdout",
     "output_type": "stream",
     "text": [
      "Maximum rmsd: 10.118315302617418\n"
     ]
    }
   ],
   "source": [
    "print(f'Maximum rmsd: {violations_df.rmsd[violations_df.index.size - 1]}')"
   ]
  },
  {
   "cell_type": "code",
   "execution_count": 13,
   "metadata": {},
   "outputs": [],
   "source": [
    "violations_df['binding_affinity'] = violations_df.apply(lambda x: (float(x.after.GetProp('BIOSOLVEIT.HYDE_ESTIMATED_AFFINITY_LOWER_BOUNDARY [nM]')) + float(x.after.GetProp('BIOSOLVEIT.HYDE_ESTIMATED_AFFINITY_UPPER_BOUNDARY [nM]'))) / 2, axis=1)"
   ]
  },
  {
   "cell_type": "code",
   "execution_count": 14,
   "metadata": {},
   "outputs": [
    {
     "data": {
      "text/plain": [
       "count    1.010810e+05\n",
       "mean     1.214088e+13\n",
       "std      1.250293e+15\n",
       "min      4.429400e-02\n",
       "25%      4.506207e+04\n",
       "50%      4.757876e+06\n",
       "75%      1.620926e+08\n",
       "max      2.432397e+17\n",
       "Name: binding_affinity, dtype: float64"
      ]
     },
     "execution_count": 14,
     "metadata": {},
     "output_type": "execute_result"
    }
   ],
   "source": [
    "violations_df.binding_affinity.describe()"
   ]
  },
  {
   "cell_type": "code",
   "execution_count": 15,
   "metadata": {},
   "outputs": [
    {
     "data": {
      "text/plain": [
       "4757875.7871915"
      ]
     },
     "execution_count": 15,
     "metadata": {},
     "output_type": "execute_result"
    }
   ],
   "source": [
    "violations_df.binding_affinity.median()"
   ]
  }
 ],
 "metadata": {
  "kernelspec": {
   "display_name": "king_frag_lib_pocket_enum",
   "language": "python",
   "name": "python3"
  },
  "language_info": {
   "codemirror_mode": {
    "name": "ipython",
    "version": 3
   },
   "file_extension": ".py",
   "mimetype": "text/x-python",
   "name": "python",
   "nbconvert_exporter": "python",
   "pygments_lexer": "ipython3",
   "version": "3.8.17"
  },
  "orig_nbformat": 4
 },
 "nbformat": 4,
 "nbformat_minor": 2
}
