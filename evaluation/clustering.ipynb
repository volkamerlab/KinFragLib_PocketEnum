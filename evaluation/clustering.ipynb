{
 "cells": [
  {
   "cell_type": "code",
   "execution_count": 48,
   "metadata": {},
   "outputs": [],
   "source": [
    "from pathlib import Path\n",
    "from kinfraglib import utils, filters\n",
    "import docking_utils\n",
    "from rdkit import Chem\n",
    "from pathlib import Path\n",
    "import logging\n",
    "import time\n",
    "import os\n",
    "import wandb \n",
    "\n",
    "import py3Dmol\n",
    "\n",
    "import json\n",
    "import threading_docking\n",
    "from functools import partial\n",
    "from concurrent.futures import ThreadPoolExecutor, as_completed\n",
    "from rdkit.ML.Cluster import Butina\n",
    "from rdkit.Chem import rdMolAlign\n",
    "\n",
    "PATH_DATA = \"../KinFragLib/data\"\n",
    "PATH_CONFIG = \"config_smarts_exclude\""
   ]
  },
  {
   "cell_type": "code",
   "execution_count": 49,
   "metadata": {},
   "outputs": [],
   "source": [
    "def calc_distance_matrix(molecules):\n",
    "    \"\"\"\n",
    "    Calculates the distance matrix (based on RMSD) that can be used for clustering\n",
    "\n",
    "    Parameters\n",
    "    ----------\n",
    "    molecules: List(Mol)\n",
    "        List of molecules for which the matrix is calculated\n",
    "    \"\"\"\n",
    "    atom_mapping = [[j, j] for j in range(molecules[0].GetNumAtoms())]\n",
    "\n",
    "    # for each combination calculate the RMSD (without considering symmetry)\n",
    "    return [rdMolAlign.CalcRMS(molecules[i], molecules[j], map = [atom_mapping]) for i in range(len(molecules)) for j in range(i)]"
   ]
  },
  {
   "cell_type": "code",
   "execution_count": 50,
   "metadata": {},
   "outputs": [
    {
     "name": "stdout",
     "output_type": "stream",
     "text": [
      "b'  WARNING: Outdated docking definition file. No valid stereo flip modes specified, taking default or user specified value.\\n'\n"
     ]
    }
   ],
   "source": [
    "fragment_library = utils.read_fragment_library(Path(PATH_DATA + \"/fragment_library\"))\n",
    "core_subpocket = 'AP'\n",
    "i = 60 \n",
    "\n",
    "smiles = fragment_library[core_subpocket]['smiles'][i]\n",
    "smiles_dummy = fragment_library[core_subpocket]['smiles_dummy'][i]\n",
    "core_fragment = docking_utils.Ligand(fragment_library[core_subpocket]['ROMol'][i], {core_subpocket: i}, \n",
    "                                            docking_utils.Recombination([core_subpocket + \"_\" + str(i)], [], {core_subpocket: smiles}, {core_subpocket: smiles_dummy}), \n",
    "                                            {core_subpocket: smiles_dummy}, {core_subpocket: smiles})\n",
    "core_fragment.to_sdf(\"AP_fragment.sdf\")\n",
    "docking_poses = docking_utils.core_docking(\"AP_fragment.sdf\", \"../config_smarts_exclude/3amb/AP.flexx\", \"AP_fragment_docked.sdf\", \"../FlexX.app/Contents/MacOS/FlexX\", core_fragment.fragment_ids, core_fragment.smiles_dummy, core_fragment.smiles, True)"
   ]
  },
  {
   "cell_type": "code",
   "execution_count": 51,
   "metadata": {},
   "outputs": [],
   "source": [
    "\n",
    "from rdkit import Chem\n",
    "from rdkit.Chem import AllChem \n",
    "import nglview as nv\n",
    "from io import StringIO\n",
    "from typing import *\n",
    "from warnings import warn\n",
    "   \n",
    "def get_ggplot_colour_scale(n:int=7):\n",
    "    ggplot_color_scales = {1: ['#F8766D'],\n",
    "                           2: ['#F8766D', '#00B4C4'],\n",
    "                           3: ['#F8766D', '#00BA38', '#619CFF'],\n",
    "                           4: ['#F8766D', '#7CAE00', '#00BFC4', '#C77CFF'],\n",
    "                           7: ['#F8766D', '#C49A00','#53B400','#00C094','#00B6EB','#A58AFF','#FB61D7']\n",
    "                           }\n",
    "    if n in ggplot_color_scales:\n",
    "        return iter(ggplot_color_scales[n])\n",
    "    else:\n",
    "        return iter(ggplot_color_scales[7])\n",
    "\n",
    "\n",
    "def get_ggplot_colour_scale(n:int=7) -> Iterable[NewType('ColorHex', str)]:\n",
    "    ggplot_color_scales = {1: ['#F8766D'],\n",
    "                           2: ['#F8766D', '#00B4C4'],\n",
    "                           3: ['#F8766D', '#00BA38', '#619CFF'],\n",
    "                           4: ['#F8766D', '#7CAE00', '#00BFC4', '#C77CFF'],\n",
    "                           7: ['#F8766D', '#C49A00','#53B400','#00C094','#00B6EB','#A58AFF','#FB61D7']\n",
    "                           }\n",
    "    if n in ggplot_color_scales:\n",
    "        return iter(ggplot_color_scales[n])\n",
    "    else:\n",
    "        return iter(ggplot_color_scales[7])\n",
    "\n",
    "\n",
    "def crete_multiple_rdkit_view(clusters: list) -> nv.NGLWidget:\n",
    "    colors = get_ggplot_colour_scale(len(clusters))\n",
    "    view = nv.NGLWidget()\n",
    "    m = 0\n",
    "    for cluster in clusters: #: Tuple[int, Chem.Mol]\n",
    "        try:\n",
    "            color = next(colors)\n",
    "        except StopIteration:\n",
    "            break\n",
    "        for mol in cluster:\n",
    "            fh = StringIO(Chem.MolToMolBlock(mol))\n",
    "            view.add_component(fh, ext='mol')\n",
    "            view.clear_representations(component=m)\n",
    "            view.add_licorice(colorValue=color, component=m, multipleBond='symmetric')\n",
    "            m += 1\n",
    "    return view\n"
   ]
  },
  {
   "cell_type": "code",
   "execution_count": 52,
   "metadata": {},
   "outputs": [],
   "source": [
    "docking_poses = docking_poses[:10]\n",
    "# calculate the distance matrix according to RMSD\n",
    "dists_RMS = calc_distance_matrix(docking_poses)\n",
    "\n",
    "# cluster poses according to the distance matrix  do this with 0.5, 1.5, 2.5\n",
    "clusters = Butina.ClusterData(dists_RMS, len(docking_poses), 0.5, isDistData=True, reordering=True)"
   ]
  },
  {
   "cell_type": "code",
   "execution_count": 53,
   "metadata": {},
   "outputs": [
    {
     "name": "stdout",
     "output_type": "stream",
     "text": [
      "10\n"
     ]
    }
   ],
   "source": [
    "print(len(docking_poses))"
   ]
  },
  {
   "cell_type": "code",
   "execution_count": 54,
   "metadata": {},
   "outputs": [],
   "source": [
    "clustered_poses = [[docking_poses[i] for i in (cluster if len(cluster) < 4 else cluster)] for cluster in clusters]"
   ]
  },
  {
   "cell_type": "code",
   "execution_count": 55,
   "metadata": {},
   "outputs": [
    {
     "data": {
      "application/vnd.jupyter.widget-view+json": {
       "model_id": "173f91eb2998418bafa444366b075f5f",
       "version_major": 2,
       "version_minor": 0
      },
      "text/plain": [
       "NGLWidget()"
      ]
     },
     "metadata": {},
     "output_type": "display_data"
    }
   ],
   "source": [
    "view = crete_multiple_rdkit_view(clustered_poses)\n",
    "view"
   ]
  },
  {
   "cell_type": "code",
   "execution_count": 56,
   "metadata": {},
   "outputs": [
    {
     "name": "stdout",
     "output_type": "stream",
     "text": [
      "CompletedProcess(args=['../FlexX.app/Contents/MacOS/FlexX', '-i', 'SE_compound.sdf', '--docking-definition', '../config_smarts_exclude/3amb/SE.flexx', '-o', 'SE_fragment_docked.sdf', '-t', 'SE_template.sdf', '--docking-type', '1'], returncode=0, stdout=b'', stderr=b'  WARNING: Outdated docking definition file. No valid stereo flip modes specified, taking default or user specified value.\\n')\n"
     ]
    }
   ],
   "source": [
    "core_fragment.recombine(0, 'SE', fragment_library)\n",
    "compound = docking_utils.from_recombination(core_fragment.recombinations[0])\n",
    "compound.to_sdf(\"SE_compound.sdf\")\n",
    "with Chem.SDWriter(\"SE_template.sdf\") as w:\n",
    "    w.write(docking_poses[0])\n",
    "\n",
    "docking_poses_2 = docking_utils.template_docking(\"SE_compound.sdf\", \"SE_template.sdf\", \"../config_smarts_exclude/3amb/SE.flexx\", \"SE_fragment_docked.sdf\", \"../FlexX.app/Contents/MacOS/FlexX\", core_fragment.fragment_ids, core_fragment.smiles_dummy, core_fragment.smiles, True)"
   ]
  },
  {
   "cell_type": "code",
   "execution_count": 57,
   "metadata": {},
   "outputs": [],
   "source": [
    "docking_poses_2 = docking_poses_2[:10]"
   ]
  },
  {
   "cell_type": "code",
   "execution_count": 62,
   "metadata": {},
   "outputs": [],
   "source": [
    "# calculate the distance matrix according to RMSD\n",
    "dists_RMS = calc_distance_matrix(docking_poses_2)\n",
    "\n",
    "# cluster poses according to the distance matrix  do this with 0.5, 1.0, 2.5\n",
    "clusters = Butina.ClusterData(dists_RMS, len(docking_poses_2), 0.5, isDistData=True, reordering=True)"
   ]
  },
  {
   "cell_type": "code",
   "execution_count": 63,
   "metadata": {},
   "outputs": [],
   "source": [
    "clustered_poses = [[docking_poses_2[i] for i in (cluster if len(cluster) < 10 else cluster)] for cluster in clusters]"
   ]
  },
  {
   "cell_type": "code",
   "execution_count": 64,
   "metadata": {},
   "outputs": [
    {
     "data": {
      "application/vnd.jupyter.widget-view+json": {
       "model_id": "4b3db4d86aaf415f8e451ea7c754df06",
       "version_major": 2,
       "version_minor": 0
      },
      "text/plain": [
       "NGLWidget()"
      ]
     },
     "metadata": {},
     "output_type": "display_data"
    }
   ],
   "source": [
    "view = crete_multiple_rdkit_view(clustered_poses)\n",
    "view"
   ]
  },
  {
   "cell_type": "code",
   "execution_count": 80,
   "metadata": {},
   "outputs": [
    {
     "name": "stdout",
     "output_type": "stream",
     "text": [
      "b'  WARNING: Outdated docking definition file. No valid stereo flip modes specified, taking default or user specified value.\\n'\n"
     ]
    }
   ],
   "source": [
    "fragment_library = utils.read_fragment_library(Path(PATH_DATA + \"/fragment_library\"))\n",
    "core_subpocket = 'AP'\n",
    "i = 0 \n",
    "\n",
    "smiles = fragment_library[core_subpocket]['smiles'][i]\n",
    "smiles_dummy = fragment_library[core_subpocket]['smiles_dummy'][i]\n",
    "core_fragment = docking_utils.Ligand(fragment_library[core_subpocket]['ROMol'][i], {core_subpocket: i}, \n",
    "                                            docking_utils.Recombination([core_subpocket + \"_\" + str(i)], [], {core_subpocket: smiles}, {core_subpocket: smiles_dummy}), \n",
    "                                            {core_subpocket: smiles_dummy}, {core_subpocket: smiles})\n",
    "core_fragment.to_sdf(\"AP_fragment.sdf\")\n",
    "docking_poses = docking_utils.core_docking(\"AP_fragment.sdf\", \"../config_smarts_exclude/3amb/AP.flexx\", \"AP_fragment_docked.sdf\", \"../FlexX.app/Contents/MacOS/FlexX\", core_fragment.fragment_ids, core_fragment.smiles_dummy, core_fragment.smiles, True)"
   ]
  },
  {
   "cell_type": "code",
   "execution_count": 81,
   "metadata": {},
   "outputs": [],
   "source": [
    "docking_poses = docking_poses[:10]\n",
    "# calculate the distance matrix according to RMSD\n",
    "dists_RMS = calc_distance_matrix(docking_poses)\n",
    "\n",
    "# cluster poses according to the distance matrix  do this with 0.5, 1.5, 2.5\n",
    "clusters = Butina.ClusterData(dists_RMS, len(docking_poses), 0.5, isDistData=True, reordering=True)"
   ]
  },
  {
   "cell_type": "code",
   "execution_count": 82,
   "metadata": {},
   "outputs": [
    {
     "name": "stdout",
     "output_type": "stream",
     "text": [
      "10\n"
     ]
    }
   ],
   "source": [
    "print(len(docking_poses))"
   ]
  },
  {
   "cell_type": "code",
   "execution_count": 83,
   "metadata": {},
   "outputs": [],
   "source": [
    "clustered_poses = [[docking_poses[i] for i in (cluster if len(cluster) < 4 else cluster)] for cluster in clusters]"
   ]
  },
  {
   "cell_type": "code",
   "execution_count": 84,
   "metadata": {},
   "outputs": [
    {
     "data": {
      "application/vnd.jupyter.widget-view+json": {
       "model_id": "1df8615862724db4b97cefa6e99e3166",
       "version_major": 2,
       "version_minor": 0
      },
      "text/plain": [
       "NGLWidget()"
      ]
     },
     "metadata": {},
     "output_type": "display_data"
    }
   ],
   "source": [
    "view = crete_multiple_rdkit_view(clustered_poses)\n",
    "view"
   ]
  },
  {
   "cell_type": "code",
   "execution_count": 90,
   "metadata": {},
   "outputs": [
    {
     "name": "stdout",
     "output_type": "stream",
     "text": [
      "CompletedProcess(args=['../FlexX.app/Contents/MacOS/FlexX', '-i', 'SE_compound.sdf', '--docking-definition', '../config_smarts_exclude/3amb/SE.flexx', '-o', 'SE_fragment_docked.sdf', '-t', 'SE_template.sdf', '--docking-type', '1'], returncode=0, stdout=b'', stderr=b'  WARNING: Outdated docking definition file. No valid stereo flip modes specified, taking default or user specified value.\\n')\n"
     ]
    }
   ],
   "source": [
    "core_fragment.recombine(2, 'SE', fragment_library)\n",
    "compound = docking_utils.from_recombination(core_fragment.recombinations[0])\n",
    "compound.to_sdf(\"SE_compound.sdf\")\n",
    "with Chem.SDWriter(\"SE_template.sdf\") as w:\n",
    "    w.write(docking_poses[2])\n",
    "\n",
    "docking_poses_2 = docking_utils.template_docking(\"SE_compound.sdf\", \"SE_template.sdf\", \"../config_smarts_exclude/3amb/SE.flexx\", \"SE_fragment_docked.sdf\", \"../FlexX.app/Contents/MacOS/FlexX\", core_fragment.fragment_ids, core_fragment.smiles_dummy, core_fragment.smiles, True)"
   ]
  },
  {
   "cell_type": "code",
   "execution_count": 91,
   "metadata": {},
   "outputs": [],
   "source": [
    "docking_poses_2 = docking_poses_2[:10]"
   ]
  },
  {
   "cell_type": "code",
   "execution_count": 92,
   "metadata": {},
   "outputs": [],
   "source": [
    "# calculate the distance matrix according to RMSD\n",
    "dists_RMS = calc_distance_matrix(docking_poses_2)\n",
    "\n",
    "# cluster poses according to the distance matrix  do this with 0.5, 1.0, 2.5\n",
    "clusters = Butina.ClusterData(dists_RMS, len(docking_poses_2), 0.5, isDistData=True, reordering=True)"
   ]
  },
  {
   "cell_type": "code",
   "execution_count": 93,
   "metadata": {},
   "outputs": [],
   "source": [
    "clustered_poses = [[docking_poses_2[i] for i in (cluster if len(cluster) < 10 else cluster)] for cluster in clusters]"
   ]
  },
  {
   "cell_type": "code",
   "execution_count": 94,
   "metadata": {},
   "outputs": [
    {
     "data": {
      "application/vnd.jupyter.widget-view+json": {
       "model_id": "566e41855c3a4a43afc4aa7ad342ba37",
       "version_major": 2,
       "version_minor": 0
      },
      "text/plain": [
       "NGLWidget()"
      ]
     },
     "metadata": {},
     "output_type": "display_data"
    }
   ],
   "source": [
    "view = crete_multiple_rdkit_view(clustered_poses)\n",
    "view"
   ]
  }
 ],
 "metadata": {
  "kernelspec": {
   "display_name": "king_frag_lib_pocket_enum",
   "language": "python",
   "name": "python3"
  },
  "language_info": {
   "codemirror_mode": {
    "name": "ipython",
    "version": 3
   },
   "file_extension": ".py",
   "mimetype": "text/x-python",
   "name": "python",
   "nbconvert_exporter": "python",
   "pygments_lexer": "ipython3",
   "version": "3.8.17"
  },
  "orig_nbformat": 4
 },
 "nbformat": 4,
 "nbformat_minor": 2
}
