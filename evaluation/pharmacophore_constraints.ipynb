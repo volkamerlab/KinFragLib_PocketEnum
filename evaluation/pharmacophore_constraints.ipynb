{
 "cells": [
  {
   "cell_type": "code",
   "execution_count": 60,
   "metadata": {},
   "outputs": [],
   "source": [
    "import docking_utils as docking_utils\n",
    "from rdkit import Chem\n"
   ]
  },
  {
   "cell_type": "code",
   "execution_count": 61,
   "metadata": {},
   "outputs": [],
   "source": [
    "from opencadd.structure.core import Structure\n",
    "from rdkit.Chem import AllChem\n",
    "\n",
    "def best_rmsd(poses: list, pdb_id, ligand_resname, chain = None):\n",
    "    # prepare ligand\n",
    "    structure = Structure.from_pdbid(pdb_id)\n",
    "    ligand = structure.select_atoms(f\"resname {ligand_resname}\")\n",
    "    if chain:\n",
    "        ligand = ligand.select_atoms(f\"segid {chain}\")\n",
    "    ligand.write('t.pdb')\n",
    "    ligand = Chem.MolFromPDBFile('t.pdb', removeHs=True)\n",
    "    ligand = AllChem.AssignBondOrdersFromTemplate(poses[0], ligand)\n",
    "    poses = [mol for mol in poses if AllChem.MolToSmiles(mol) == AllChem.MolToSmiles(ligand)]\n",
    "    minimal_pose = min((mol for mol in poses), key=lambda mol: Chem.rdMolAlign.CalcRMS(mol, ligand))\n",
    "    return min(Chem.rdMolAlign.CalcRMS(mol, ligand) for mol in poses), minimal_pose\n"
   ]
  },
  {
   "cell_type": "code",
   "execution_count": 62,
   "metadata": {},
   "outputs": [],
   "source": [
    "LIGAND_NAME_3AMB = \"VX6\"\n",
    "LIGAND_NAME_5L4Q = \"LKB\""
   ]
  },
  {
   "cell_type": "markdown",
   "metadata": {},
   "source": [
    "# 3amb RMSD between constructed ligand and original ligand\n",
    "\n"
   ]
  },
  {
   "cell_type": "markdown",
   "metadata": {},
   "source": [
    "Constraint: Heavy Atom (without excluding)"
   ]
  },
  {
   "cell_type": "code",
   "execution_count": 63,
   "metadata": {},
   "outputs": [
    {
     "name": "stdout",
     "output_type": "stream",
     "text": [
      "Best RMSD: 1.7842449637328561\n"
     ]
    }
   ],
   "source": [
    "poses = [mol for mol in Chem.SDMolSupplier('../reconstructed_ligands/3amb/3amb_heavy_atom.sdf')]\n",
    "if len(poses):\n",
    "    print('Best RMSD:', best_rmsd(poses, '3amb', LIGAND_NAME_3AMB)[0])\n",
    "else: \n",
    "    print(\"Could not reconstruct ligand\")"
   ]
  },
  {
   "cell_type": "markdown",
   "metadata": {},
   "source": [
    "Constraint: Heavy Atom (with excluding)"
   ]
  },
  {
   "cell_type": "code",
   "execution_count": 64,
   "metadata": {},
   "outputs": [
    {
     "name": "stdout",
     "output_type": "stream",
     "text": [
      "Best RMSD: 1.785623607900307\n"
     ]
    }
   ],
   "source": [
    "poses = [mol for mol in Chem.SDMolSupplier('../reconstructed_ligands/3amb/3amb_heavy_atom_exclude.sdf')]\n",
    "if len(poses):\n",
    "    print('Best RMSD:', best_rmsd(poses, '3amb', LIGAND_NAME_3AMB)[0])\n",
    "else: \n",
    "    print(\"Could not reconstruct ligand\")"
   ]
  },
  {
   "cell_type": "markdown",
   "metadata": {},
   "source": [
    "Constraint: Smarts pattern (without excluding)"
   ]
  },
  {
   "cell_type": "code",
   "execution_count": 65,
   "metadata": {},
   "outputs": [
    {
     "name": "stdout",
     "output_type": "stream",
     "text": [
      "Could not reconstruct ligand\n"
     ]
    }
   ],
   "source": [
    "# could not be reconstructed\n",
    "poses = []\n",
    "# poses = [mol for mol in Chem.SDMolSupplier('../reconstructed_ligands/3amb/3amb_smarts.sdf')]\n",
    "if len(poses):\n",
    "    print('Best RMSD:', best_rmsd(poses, '3amb', LIGAND_NAME_3AMB))\n",
    "else: \n",
    "    print(\"Could not reconstruct ligand\")"
   ]
  },
  {
   "cell_type": "markdown",
   "metadata": {},
   "source": [
    "Constraint: Smarts pattern (with excluding)"
   ]
  },
  {
   "cell_type": "code",
   "execution_count": 66,
   "metadata": {},
   "outputs": [
    {
     "name": "stdout",
     "output_type": "stream",
     "text": [
      "Best RMSD: 1.5755990408653335\n"
     ]
    }
   ],
   "source": [
    "poses = [mol for mol in Chem.SDMolSupplier('../reconstructed_ligands/3amb/3amb_smarts_exclude.sdf')]\n",
    "if len(poses):\n",
    "    print('Best RMSD:', best_rmsd(poses, '3amb', LIGAND_NAME_3AMB)[0])\n",
    "else: \n",
    "    print(\"Could not reconstruct ligand\")"
   ]
  },
  {
   "cell_type": "markdown",
   "metadata": {},
   "source": [
    "# 5l4q\n",
    "\n"
   ]
  },
  {
   "cell_type": "markdown",
   "metadata": {},
   "source": [
    "Constraint: Heavy Atom (without excluding)"
   ]
  },
  {
   "cell_type": "code",
   "execution_count": 67,
   "metadata": {},
   "outputs": [
    {
     "name": "stdout",
     "output_type": "stream",
     "text": [
      "Best RMSD: 0.3388462789661866\n"
     ]
    }
   ],
   "source": [
    "poses = [mol for mol in Chem.SDMolSupplier('../reconstructed_ligands/5l4q/5l4q_heavy_atom.sdf', removeHs=True)]\n",
    "if len(poses):\n",
    "    print('Best RMSD:', best_rmsd(poses, '5l4q', LIGAND_NAME_5L4Q, 'B')[0])\n",
    "else: \n",
    "    print(\"Could not reconstruct ligand\")"
   ]
  },
  {
   "cell_type": "markdown",
   "metadata": {},
   "source": [
    "Constraint: Heavy Atom (with excluding)"
   ]
  },
  {
   "cell_type": "code",
   "execution_count": 68,
   "metadata": {},
   "outputs": [
    {
     "name": "stdout",
     "output_type": "stream",
     "text": [
      "Best RMSD: 0.3388462789661866\n"
     ]
    }
   ],
   "source": [
    "poses = [mol for mol in Chem.SDMolSupplier('../reconstructed_ligands/5l4q/5l4q_heavy_atom.sdf', removeHs=True)]\n",
    "if len(poses):\n",
    "    print('Best RMSD:', best_rmsd(poses, '5l4q', LIGAND_NAME_5L4Q, 'B')[0])\n",
    "else: \n",
    "    print(\"Could not reconstruct ligand\")"
   ]
  },
  {
   "cell_type": "markdown",
   "metadata": {},
   "source": [
    "Constraint: Smarts Pattern (without excluding)"
   ]
  },
  {
   "cell_type": "code",
   "execution_count": 69,
   "metadata": {},
   "outputs": [
    {
     "name": "stdout",
     "output_type": "stream",
     "text": [
      "Best RMSD: 0.3388462789661866\n"
     ]
    }
   ],
   "source": [
    "poses = [mol for mol in Chem.SDMolSupplier('../reconstructed_ligands/5l4q/5l4q_smarts.sdf', removeHs=True)]\n",
    "if len(poses):\n",
    "    print('Best RMSD:', best_rmsd(poses, '5l4q', LIGAND_NAME_5L4Q, 'B')[0])\n",
    "else: \n",
    "    print(\"Could not reconstruct ligand\")"
   ]
  },
  {
   "cell_type": "markdown",
   "metadata": {},
   "source": [
    "Constraint: Smarts Pattern (with excluding)"
   ]
  },
  {
   "cell_type": "code",
   "execution_count": 70,
   "metadata": {},
   "outputs": [
    {
     "name": "stdout",
     "output_type": "stream",
     "text": [
      "Best RMSD: (0.33880978382476606, <rdkit.Chem.rdchem.Mol object at 0x7fd9a4dcf3a0>)\n"
     ]
    }
   ],
   "source": [
    "poses = [mol for mol in Chem.SDMolSupplier('../reconstructed_ligands/5l4q/5l4q_smarts_exclude.sdf', removeHs=True)]\n",
    "if len(poses):\n",
    "    print('Best RMSD:', best_rmsd(poses, '5l4q', LIGAND_NAME_5L4Q, 'B')[0])\n",
    "else: \n",
    "    print(\"Could not reconstruct ligand\")"
   ]
  }
 ],
 "metadata": {
  "kernelspec": {
   "display_name": "kinfraglib",
   "language": "python",
   "name": "python3"
  },
  "language_info": {
   "codemirror_mode": {
    "name": "ipython",
    "version": 3
   },
   "file_extension": ".py",
   "mimetype": "text/x-python",
   "name": "python",
   "nbconvert_exporter": "python",
   "pygments_lexer": "ipython3",
   "version": "3.8.17"
  },
  "orig_nbformat": 4
 },
 "nbformat": 4,
 "nbformat_minor": 2
}
