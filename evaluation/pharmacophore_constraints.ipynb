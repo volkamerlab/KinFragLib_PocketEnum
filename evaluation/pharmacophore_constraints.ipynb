{
 "cells": [
  {
   "cell_type": "code",
   "execution_count": 1,
   "metadata": {},
   "outputs": [],
   "source": [
    "import docking_utils as docking_utils\n",
    "from rdkit import Chem\n"
   ]
  },
  {
   "cell_type": "code",
   "execution_count": 2,
   "metadata": {},
   "outputs": [],
   "source": [
    "from opencadd.structure.core import Structure\n",
    "from rdkit.Chem import AllChem\n",
    "\n",
    "def best_rmsd(poses: list, pdb_id, ligand_resname, chain = None):\n",
    "    # prepare ligand\n",
    "    structure = Structure.from_pdbid(pdb_id)\n",
    "    ligand = structure.select_atoms(f\"resname {ligand_resname}\")\n",
    "    if chain:\n",
    "        ligand = ligand.select_atoms(f\"segid {chain}\")\n",
    "    ligand.write('t.pdb')\n",
    "    ligand = Chem.MolFromPDBFile('t.pdb', removeHs=True)\n",
    "    ligand = AllChem.AssignBondOrdersFromTemplate(poses[0], ligand)\n",
    "    poses = [mol for mol in poses if AllChem.MolToSmiles(mol) == AllChem.MolToSmiles(ligand)]\n",
    "    minimal_pose = min((mol for mol in poses), key=lambda mol: Chem.rdMolAlign.CalcRMS(mol, ligand))\n",
    "    return min(Chem.rdMolAlign.CalcRMS(mol, ligand) for mol in poses), minimal_pose\n"
   ]
  },
  {
   "cell_type": "code",
   "execution_count": 3,
   "metadata": {},
   "outputs": [],
   "source": [
    "LIGAND_NAME_3AMB = \"VX6\"\n",
    "LIGAND_NAME_5L4Q = \"LKB\""
   ]
  },
  {
   "cell_type": "markdown",
   "metadata": {},
   "source": [
    "# 3amb RMSD between constructed ligand and original ligand\n",
    "\n"
   ]
  },
  {
   "cell_type": "markdown",
   "metadata": {},
   "source": [
    "Constraint: Heavy Atom (without excluding)"
   ]
  },
  {
   "cell_type": "code",
   "execution_count": 4,
   "metadata": {},
   "outputs": [
    {
     "name": "stdout",
     "output_type": "stream",
     "text": [
      "Best RMSD: 1.7842449637328561\n"
     ]
    },
    {
     "name": "stderr",
     "output_type": "stream",
     "text": [
      "/opt/homebrew/Caskroom/mambaforge/base/envs/king_frag_lib_pocket_enum/lib/python3.8/site-packages/MDAnalysis/coordinates/PDB.py:1129: UserWarning: Found no information for attr: 'chainIDs' Using default value of ''\n",
      "  warnings.warn(\"Found no information for attr: '{}'\"\n",
      "/opt/homebrew/Caskroom/mambaforge/base/envs/king_frag_lib_pocket_enum/lib/python3.8/site-packages/MDAnalysis/coordinates/PDB.py:1129: UserWarning: Found no information for attr: 'elements' Using default value of ' '\n",
      "  warnings.warn(\"Found no information for attr: '{}'\"\n",
      "/opt/homebrew/Caskroom/mambaforge/base/envs/king_frag_lib_pocket_enum/lib/python3.8/site-packages/MDAnalysis/coordinates/PDB.py:1129: UserWarning: Found no information for attr: 'record_types' Using default value of 'ATOM'\n",
      "  warnings.warn(\"Found no information for attr: '{}'\"\n",
      "/opt/homebrew/Caskroom/mambaforge/base/envs/king_frag_lib_pocket_enum/lib/python3.8/site-packages/MDAnalysis/coordinates/PDB.py:1129: UserWarning: Found no information for attr: 'formalcharges' Using default value of '0'\n",
      "  warnings.warn(\"Found no information for attr: '{}'\"\n",
      "/opt/homebrew/Caskroom/mambaforge/base/envs/king_frag_lib_pocket_enum/lib/python3.8/site-packages/MDAnalysis/coordinates/PDB.py:1176: UserWarning: Found missing chainIDs. Corresponding atoms will use value of 'X'\n",
      "  warnings.warn(\"Found missing chainIDs.\"\n"
     ]
    }
   ],
   "source": [
    "poses = [mol for mol in Chem.SDMolSupplier('../reconstructed_ligands/3amb/3amb_heavy_atom.sdf')]\n",
    "if len(poses):\n",
    "    print('Best RMSD:', best_rmsd(poses, '3amb', LIGAND_NAME_3AMB)[0])\n",
    "else: \n",
    "    print(\"Could not reconstruct ligand\")"
   ]
  },
  {
   "cell_type": "markdown",
   "metadata": {},
   "source": [
    "Constraint: Heavy Atom (with excluding)"
   ]
  },
  {
   "cell_type": "code",
   "execution_count": 5,
   "metadata": {},
   "outputs": [
    {
     "name": "stdout",
     "output_type": "stream",
     "text": [
      "Best RMSD: 1.785623607900307\n"
     ]
    }
   ],
   "source": [
    "poses = [mol for mol in Chem.SDMolSupplier('../reconstructed_ligands/3amb/3amb_heavy_atom_exclude.sdf')]\n",
    "if len(poses):\n",
    "    print('Best RMSD:', best_rmsd(poses, '3amb', LIGAND_NAME_3AMB)[0])\n",
    "else: \n",
    "    print(\"Could not reconstruct ligand\")"
   ]
  },
  {
   "cell_type": "markdown",
   "metadata": {},
   "source": [
    "Constraint: Smarts pattern (without excluding)"
   ]
  },
  {
   "cell_type": "code",
   "execution_count": 6,
   "metadata": {},
   "outputs": [
    {
     "name": "stdout",
     "output_type": "stream",
     "text": [
      "Could not reconstruct ligand\n"
     ]
    }
   ],
   "source": [
    "# could not be reconstructed\n",
    "poses = []\n",
    "# poses = [mol for mol in Chem.SDMolSupplier('../reconstructed_ligands/3amb/3amb_smarts.sdf')]\n",
    "if len(poses):\n",
    "    print('Best RMSD:', best_rmsd(poses, '3amb', LIGAND_NAME_3AMB))\n",
    "else: \n",
    "    print(\"Could not reconstruct ligand\")"
   ]
  },
  {
   "cell_type": "markdown",
   "metadata": {},
   "source": [
    "Constraint: Smarts pattern (with excluding)"
   ]
  },
  {
   "cell_type": "code",
   "execution_count": 7,
   "metadata": {},
   "outputs": [
    {
     "name": "stdout",
     "output_type": "stream",
     "text": [
      "Best RMSD: 1.5755990408653335\n"
     ]
    }
   ],
   "source": [
    "poses = [mol for mol in Chem.SDMolSupplier('../reconstructed_ligands/3amb/3amb_smarts_exclude.sdf')]\n",
    "if len(poses):\n",
    "    print('Best RMSD:', best_rmsd(poses, '3amb', LIGAND_NAME_3AMB)[0])\n",
    "else: \n",
    "    print(\"Could not reconstruct ligand\")"
   ]
  },
  {
   "cell_type": "markdown",
   "metadata": {},
   "source": [
    "# 5l4q\n",
    "\n"
   ]
  },
  {
   "cell_type": "markdown",
   "metadata": {},
   "source": [
    "Constraint: Heavy Atom (without excluding)"
   ]
  },
  {
   "cell_type": "code",
   "execution_count": 8,
   "metadata": {},
   "outputs": [
    {
     "name": "stdout",
     "output_type": "stream",
     "text": [
      "Best RMSD: 0.3388462789661866\n"
     ]
    }
   ],
   "source": [
    "poses = [mol for mol in Chem.SDMolSupplier('../reconstructed_ligands/5l4q/5l4q_heavy_atom.sdf', removeHs=True)]\n",
    "if len(poses):\n",
    "    print('Best RMSD:', best_rmsd(poses, '5l4q', LIGAND_NAME_5L4Q, 'B')[0])\n",
    "else: \n",
    "    print(\"Could not reconstruct ligand\")"
   ]
  },
  {
   "cell_type": "markdown",
   "metadata": {},
   "source": [
    "Constraint: Heavy Atom (with excluding)"
   ]
  },
  {
   "cell_type": "code",
   "execution_count": 9,
   "metadata": {},
   "outputs": [
    {
     "name": "stdout",
     "output_type": "stream",
     "text": [
      "Best RMSD: 0.3388462789661866\n"
     ]
    }
   ],
   "source": [
    "poses = [mol for mol in Chem.SDMolSupplier('../reconstructed_ligands/5l4q/5l4q_heavy_atom.sdf', removeHs=True)]\n",
    "if len(poses):\n",
    "    print('Best RMSD:', best_rmsd(poses, '5l4q', LIGAND_NAME_5L4Q, 'B')[0])\n",
    "else: \n",
    "    print(\"Could not reconstruct ligand\")"
   ]
  },
  {
   "cell_type": "markdown",
   "metadata": {},
   "source": [
    "Constraint: Smarts Pattern (without excluding)"
   ]
  },
  {
   "cell_type": "code",
   "execution_count": 10,
   "metadata": {},
   "outputs": [
    {
     "name": "stdout",
     "output_type": "stream",
     "text": [
      "Best RMSD: 0.3388462789661866\n"
     ]
    }
   ],
   "source": [
    "poses = [mol for mol in Chem.SDMolSupplier('../reconstructed_ligands/5l4q/5l4q_smarts.sdf', removeHs=True)]\n",
    "if len(poses):\n",
    "    print('Best RMSD:', best_rmsd(poses, '5l4q', LIGAND_NAME_5L4Q, 'B')[0])\n",
    "else: \n",
    "    print(\"Could not reconstruct ligand\")"
   ]
  },
  {
   "cell_type": "markdown",
   "metadata": {},
   "source": [
    "Constraint: Smarts Pattern (with excluding)"
   ]
  },
  {
   "cell_type": "code",
   "execution_count": 11,
   "metadata": {},
   "outputs": [
    {
     "name": "stdout",
     "output_type": "stream",
     "text": [
      "Best RMSD: 0.33880978382476606\n"
     ]
    }
   ],
   "source": [
    "poses = [mol for mol in Chem.SDMolSupplier('../reconstructed_ligands/5l4q/5l4q_smarts_exclude.sdf', removeHs=True)]\n",
    "if len(poses):\n",
    "    print('Best RMSD:', best_rmsd(poses, '5l4q', LIGAND_NAME_5L4Q, 'B')[0])\n",
    "else: \n",
    "    print(\"Could not reconstruct ligand\")"
   ]
  }
 ],
 "metadata": {
  "kernelspec": {
   "display_name": "kinfraglib",
   "language": "python",
   "name": "python3"
  },
  "language_info": {
   "codemirror_mode": {
    "name": "ipython",
    "version": 3
   },
   "file_extension": ".py",
   "mimetype": "text/x-python",
   "name": "python",
   "nbconvert_exporter": "python",
   "pygments_lexer": "ipython3",
   "version": "3.8.17"
  },
  "orig_nbformat": 4
 },
 "nbformat": 4,
 "nbformat_minor": 2
}
